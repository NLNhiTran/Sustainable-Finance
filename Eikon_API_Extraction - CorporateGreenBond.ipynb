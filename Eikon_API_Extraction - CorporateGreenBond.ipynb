{
 "cells": [
  {
   "cell_type": "code",
   "execution_count": 3,
   "id": "f4f69c61",
   "metadata": {},
   "outputs": [],
   "source": [
    "import eikon as ek\n",
    "ek.set_app_key('db8c10c5791f4819821790734810cd7cca0e592c')\n",
    "import pandas as pd\n",
    "lst = pd.read_excel(r'C:/Users/nhiii/OneDrive/Desktop/Studying/Data Science/M DSS Feb 2022/Thesis/Extractions/List.xlsx')\n",
    "lst['Parent ID'] = lst['Parent ID'].astype('str')\n",
    "ric = lst['Parent ID'].values.tolist()\n",
    "fields = ['TR.RIC','TR.UltimateParentId', 'ISSDATE_1','TR.TRESGScore', 'TR.TRESGScoreGrade', 'TR.EnvironmentPillarScore', 'TR.SocialPillarScore', 'TR.GovernancePillarScore',\n",
    "           'TR.ReturnOnAssets', 'TR.F.ExpROA', 'TR.ROAActValue', 'TR.ROEActValue', 'TR.InvtrReturnOnAssets', 'TR.F.ActualROA', 'TR.F.ActualROE', \n",
    "           'TR.ROICActValue', 'TR.ROCEActValue', 'ROA', 'ROE', 'ROIC', 'ROCE', 'TR.F.ReturnAvgTotAssetsPctTTM', 'Tr.F.ReturnAvgTotComEqPctTTM', 'TR.ROAMean', 'TR.ROEMean', \n",
    "           'TR.F.ActualROA', 'TR.F.ActualROE', 'TR.F.ActualROIC', 'TR.F.ActualROCE', 'TR.F.ReturnAvgTotEqPct', 'TR.F.ReturnAvgTotAssetsPct',\n",
    "           'TR.F.TotDebtPctofTotEq', 'TR.F.TotDebtPctofTotAssets', 'TR.F.SolvRatioPct', 'TR.WACCCostofDebt', 'TR.ROCEMean', 'TR.ROICMean',\n",
    "           'TR.PEFirmSumFundSize', 'TR.PCFullTimeEmployee', 'TR.CompanyNumEmploy', 'TR.PEFundSize', 'NET_ASSET', \n",
    "           'RATING','RATING_2', 'RATING_3', 'RATING_4', 'RATING_5','TR.GR.Rating', 'TR.GR.RatingRank', 'TR.IssuerRating', \n",
    "           'TR.FiFitchsRating', 'TR.FiMoodysRating', 'TR.FiSPRating', 'TR.CreditComboImpliedRating', \n",
    "          'TR.LNMoodysLongTermCorpDebtFacilityRating']\n",
    "df, e = ek.get_data(ric, fields)"
   ]
  },
  {
   "cell_type": "code",
   "execution_count": 4,
   "id": "03ad8053",
   "metadata": {
    "scrolled": true
   },
   "outputs": [
    {
     "name": "stdout",
     "output_type": "stream",
     "text": [
      "<class 'pandas.core.frame.DataFrame'>\n",
      "RangeIndex: 468 entries, 0 to 467\n",
      "Data columns (total 50 columns):\n",
      " #   Column                                           Non-Null Count  Dtype  \n",
      "---  ------                                           --------------  -----  \n",
      " 0   Instrument                                       468 non-null    Int64  \n",
      " 1   RIC                                              468 non-null    string \n",
      " 2   Ultimate Parent Id                               468 non-null    Int64  \n",
      " 3   ISSDATE_1                                        0 non-null      Int64  \n",
      " 4   ESG Score                                        426 non-null    Float64\n",
      " 5   ESG Score Grade                                  468 non-null    string \n",
      " 6   Environmental Pillar Score                       426 non-null    Float64\n",
      " 7   Social Pillar Score                              426 non-null    Float64\n",
      " 8   Governance Pillar Score                          426 non-null    Float64\n",
      " 9   Expected Return on Assets                        99 non-null     Float64\n",
      " 10  Return On Assets - Actual                        321 non-null    Float64\n",
      " 11  Return On Equity - Actual                        343 non-null    Float64\n",
      " 12  Return On Assets                                 300 non-null    Float64\n",
      " 13  Actual Return on Assets                          128 non-null    Float64\n",
      " 14  Return On Invested Capital - Actual              190 non-null    Float64\n",
      " 15  Return On Capital Employed - Actual              223 non-null    Float64\n",
      " 16  ROA                                              0 non-null      Int64  \n",
      " 17  ROE                                              0 non-null      Int64  \n",
      " 18  ROIC                                             0 non-null      Int64  \n",
      " 19  ROCE                                             0 non-null      Int64  \n",
      " 20  Return on Average Total Assets - %, TTM          378 non-null    Float64\n",
      " 21  Return On Assets - Mean                          375 non-null    Float64\n",
      " 22  Return On Equity - Mean                          404 non-null    Float64\n",
      " 23  Actual Return on Assets                          128 non-null    Float64\n",
      " 24  Return on Average Total Equity - %               440 non-null    Float64\n",
      " 25  Return on Average Total Assets - %               440 non-null    Float64\n",
      " 26  Total Debt Percentage of Total Equity            436 non-null    Float64\n",
      " 27  Total Debt Percentage of Total Assets            436 non-null    Float64\n",
      " 28  Solvency Ratio - %                               431 non-null    Float64\n",
      " 29  WACC Cost of Debt, (%)                           426 non-null    Float64\n",
      " 30  Return On Capital Employed - Mean                282 non-null    Float64\n",
      " 31  Return On Invested Capital - Mean                264 non-null    Float64\n",
      " 32  Firm's Fund: Size                                0 non-null      Int64  \n",
      " 33  Full-Time Employees (Pvt)                        317 non-null    Int64  \n",
      " 34  Number of Employees                              341 non-null    Int64  \n",
      " 35  Fund Size                                        0 non-null      Int64  \n",
      " 36  NET_ASSET                                        0 non-null      Int64  \n",
      " 37  RATING                                           0 non-null      Int64  \n",
      " 38  RATING_2                                         0 non-null      Int64  \n",
      " 39  RATING_3                                         0 non-null      Int64  \n",
      " 40  RATING_4                                         0 non-null      Int64  \n",
      " 41  RATING_5                                         0 non-null      Int64  \n",
      " 42  Rating                                           0 non-null      Int64  \n",
      " 43  Rating Rank                                      0 non-null      Int64  \n",
      " 44  Issuer Rating                                    468 non-null    string \n",
      " 45  Fitchs Rating                                    0 non-null      Int64  \n",
      " 46  Moodys Rating                                    0 non-null      Int64  \n",
      " 47  SP Rating                                        0 non-null      Int64  \n",
      " 48  Credit Combined Implied Rating                   428 non-null    string \n",
      " 49  Ratings: Moodys Long Term Corporate Debt Rating  0 non-null      Int64  \n",
      "dtypes: Float64(23), Int64(23), string(4)\n",
      "memory usage: 204.0 KB\n"
     ]
    }
   ],
   "source": [
    "df.info()"
   ]
  },
  {
   "cell_type": "code",
   "execution_count": 5,
   "id": "58d8ce4d",
   "metadata": {},
   "outputs": [],
   "source": [
    "df.to_excel('Eikon_API_Extraction - CorporateGreenBond.xlsx')"
   ]
  }
 ],
 "metadata": {
  "kernelspec": {
   "display_name": "Python 3 (ipykernel)",
   "language": "python",
   "name": "python3"
  },
  "language_info": {
   "codemirror_mode": {
    "name": "ipython",
    "version": 3
   },
   "file_extension": ".py",
   "mimetype": "text/x-python",
   "name": "python",
   "nbconvert_exporter": "python",
   "pygments_lexer": "ipython3",
   "version": "3.9.12"
  }
 },
 "nbformat": 4,
 "nbformat_minor": 5
}
